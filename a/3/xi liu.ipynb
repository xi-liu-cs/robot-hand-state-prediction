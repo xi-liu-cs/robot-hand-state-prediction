{
  "cells": [
    {
      "cell_type": "code",
      "execution_count": null,
      "metadata": {
        "pycharm": {
          "name": "#%%\n"
        },
        "id": "FC1XvjUpqAg8"
      },
      "outputs": [],
      "source": [
        "import CNN_model\n",
        "import torch\n",
        "import os\n",
        "import torch\n",
        "import torch.nn as nn\n",
        "from torch.utils.data import Dataset, DataLoader, TensorDataset\n",
        "import torch.nn.functional as F\n",
        "import torch.optim as optim\n",
        "import matplotlib.pyplot as plt\n",
        "import numpy as np\n",
        "import cv2\n",
        "import pickle as pkl\n",
        "from torch import Tensor\n",
        "from joblib import dump, load\n",
        "import submission\n",
        "import pandas as pd"
      ]
    },
    {
      "cell_type": "code",
      "execution_count": null,
      "metadata": {
        "pycharm": {
          "name": "#%%\n"
        },
        "id": "rStIYJ6aqAg_",
        "outputId": "3aed3f10-9e59-4136-a096-a3e0cb487bb5"
      },
      "outputs": [
        {
          "name": "stdout",
          "output_type": "stream",
          "text": [
            "True\n"
          ]
        }
      ],
      "source": [
        "print(torch.cuda.is_available())\n",
        "torch.cuda.empty_cache()"
      ]
    },
    {
      "cell_type": "code",
      "execution_count": null,
      "metadata": {
        "pycharm": {
          "name": "#%%\n"
        },
        "id": "IfXxetfIqAhA"
      },
      "outputs": [],
      "source": [
        "cnn_model = CNN_model.CNN()"
      ]
    },
    {
      "cell_type": "code",
      "execution_count": null,
      "metadata": {
        "pycharm": {
          "name": "#%%\n"
        },
        "id": "oDE70hpGqAhB"
      },
      "outputs": [],
      "source": [
        "# model_step0 = cnn_model.main(loadname = 'lx_preprocessed_data0.joblib', pre_trained_model = None)\n",
        "\n",
        "\"\"\"model_scripted = torch.jit.script(cnn_model) # Export to TorchScript\n",
        "model_scripted.save('res50_pretrained_model_img1.pt') # Save\n",
        "model_step0 = load('.pt')\"\"\"\n",
        "\n",
        "# model_step1 = cnn_model.main(loadname = 'lx_preprocessed_data1.joblib', pre_trained_model = model_step0)\n",
        "# model_step2 = cnn_model.main(loadname = 'lx_preprocessed_data2.joblib', pre_trained_model = model_step1)"
      ]
    },
    {
      "cell_type": "code",
      "execution_count": null,
      "metadata": {
        "pycharm": {
          "name": "#%%\n"
        },
        "id": "jpDOwYO4qAhB"
      },
      "outputs": [],
      "source": [
        "# model_scripted = torch.jit.script(model) # Export to TorchScript\n",
        "# model_scripted.save('res50_pretrained_model.pt') # Save"
      ]
    },
    {
      "cell_type": "code",
      "execution_count": null,
      "metadata": {
        "id": "p4fkt3jKqAhC"
      },
      "outputs": [],
      "source": [
        "cnn_model = cnn_model.main(loadname = 'lx_preprocessed_data1.joblib', pre_trained_model = None)\n",
        "# file = load('lx_preprocessed_data1.joblib')\n",
        "# file[0].shape, file[1].shape"
      ]
    },
    {
      "cell_type": "code",
      "execution_count": null,
      "metadata": {
        "id": "Xl3IuanlqAhC"
      },
      "outputs": [],
      "source": [
        "model_scripted = torch.jit.script(cnn_model) # Export to TorchScript\n",
        "model_scripted.save('res50_pretrained_model_img1.pt') # Save"
      ]
    },
    {
      "cell_type": "code",
      "execution_count": null,
      "metadata": {
        "pycharm": {
          "name": "#%%\n"
        },
        "id": "XL3aAJuXqAhD"
      },
      "outputs": [],
      "source": [
        "# predictions = cnn_model.pred(model_name='res50_pretrained_model.pt')"
      ]
    },
    {
      "cell_type": "code",
      "execution_count": null,
      "metadata": {
        "pycharm": {
          "name": "#%%\n"
        },
        "id": "svvS6xxmqAhD"
      },
      "outputs": [],
      "source": [
        "# dp = CNN_model.Data_Preprocessing()\n",
        "# \"\"\"data_test = CNN_model.load_images(path='\\\\lazydata\\\\', isTrain = False)\"\"\"\n",
        "# data_train = CNN_model.load_images(path='./lazydata/', isTrain = True)\n",
        "# data_test = CNN_model.load_images(path='./lazydata/', isTrain = False)"
      ]
    },
    {
      "cell_type": "code",
      "execution_count": null,
      "metadata": {
        "pycharm": {
          "name": "#%%\n"
        },
        "id": "aLsY8CWuqAhE"
      },
      "outputs": [],
      "source": [
        "# img0_array_test, img1_array_test, img2_array_test, depth_array_test, field_id_array = dp.tensorToArray(data=data_test, isTrain=False)\n",
        "# img0_array_train, img1_array_train, img2_array_train, depth_array_train, y_array = dp.tensorToArray(data=data_train, isTrain=True)"
      ]
    },
    {
      "cell_type": "code",
      "execution_count": null,
      "metadata": {
        "pycharm": {
          "name": "#%%\n"
        },
        "id": "RrunWM4cqAhF"
      },
      "outputs": [],
      "source": [
        "# test\n",
        "# normalized_depth_test = dp.depth_normalization(depth=depth_array_test)\n",
        "\n",
        "# normalized_depth_test = dp.depth_normalization(depth=depth_array_test)\n",
        "# normalized_img0_test = dp.img_normalization(img=img0_array_test)\n",
        "# new_img_test = dp.combine_image_depth(img=normalized_img0_test, depth=normalized_depth_test)\n",
        "# ready_img_test = dp.reshape_data(new_img_test)\n",
        "\n",
        "# normalized_img1_test = dp.img_normalization(img=img1_array_test)\n",
        "# new_img1_test = dp.combine_image_depth(img=normalized_img1_test, depth=normalized_depth_test)\n",
        "# ready_img1_test = dp.reshape_data(new_img1_test)\n",
        "\n",
        "# normalized_depth_test = dp.depth_normalization(depth=depth_array_test)\n",
        "# normalized_img0_test = dp.img_normalization(img=img0_array_test)\n",
        "# new_img_test = dp.combine_image_depth(img=normalized_img0_test, depth=normalized_depth_test)\n",
        "# ready_img_test = dp.reshape_data(new_img_test)\n",
        "\n",
        "# train\n",
        "# normalized_depth_train = dp.depth_normalization(depth=depth_array_train)\n",
        "\n",
        "# normalized_img0_train = dp.img_normalization(img=img0_array_train)\n",
        "# new_img_train = dp.combine_image_depth(img=normalized_img0_train, depth=normalized_depth_train, whichImg = 0)\n",
        "# ready_img_train = dp.reshape_data(new_img_train)\n",
        "\n",
        "# normalized_img1_train = dp.img_normalization(img=img1_array_train)\n",
        "# new_img_train1 = dp.combine_image_depth(img=normalized_img1_train, depth=normalized_depth_train, whichImg = 1)\n",
        "# ready_img_train1 = dp.reshape_data(new_img_train1)\n",
        "\n",
        "# normalized_img2_train = dp.img_normalization(img=img2_array_train)\n",
        "# new_img_train2 = dp.combine_image_depth(img=normalized_img2_train, depth=normalized_depth_train, whichImg = 2)\n",
        "# ready_img_train2 = dp.reshape_data(new_img_train2)"
      ]
    },
    {
      "cell_type": "code",
      "execution_count": null,
      "metadata": {
        "pycharm": {
          "name": "#%%\n"
        },
        "id": "th6HehXjqAhG"
      },
      "outputs": [],
      "source": [
        "# test\n",
        "# testX = [ready_img_test, field_id_array]\n",
        "# testX_img1 = [ready_img1_test, field_id_array]\n",
        "# testX_img2 = [ready_img2_test, field_id_array]\n",
        "\n",
        "# train\n",
        "# train_img0 = [ready_img_train, y_array]\n",
        "# train_img1 = [ready_img_train1, y_array]\n",
        "# train_img2 = [ready_img_train2, y_array]"
      ]
    },
    {
      "cell_type": "code",
      "execution_count": null,
      "metadata": {
        "pycharm": {
          "name": "#%%\n"
        },
        "id": "TWizeblnqAhG"
      },
      "outputs": [],
      "source": [
        "# dump(testX_img1, 'preprocessed_testX_img1.joblib')\n",
        "\n",
        "# train\n",
        "# dump(train_img0, 'lx_preprocessed_data0.joblib')\n",
        "# dump(train_img1, 'lx_preprocessed_data1.joblib')\n",
        "# dump(train_img2, 'lx_preprocessed_data2.joblib')"
      ]
    },
    {
      "cell_type": "code",
      "execution_count": null,
      "metadata": {
        "pycharm": {
          "name": "#%%\n"
        },
        "id": "VSWcIFjfqAhG",
        "outputId": "f6323851-bf8d-4f9a-87b5-5a5e55468268"
      },
      "outputs": [
        {
          "name": "stdout",
          "output_type": "stream",
          "text": [
            "True\n",
            "finished load data\n",
            "finished prep test data\n",
            "finished load model\n",
            "Batch Index: 0\n",
            "Batch Index: 5\n",
            "Batch Index: 10\n",
            "Batch Index: 15\n",
            "Batch Index: 20\n",
            "Batch Index: 25\n",
            "Batch Index: 30\n",
            "Batch Index: 35\n",
            "Batch Index: 40\n",
            "Batch Index: 45\n",
            "Batch Index: 50\n",
            "Batch Index: 55\n",
            "Batch Index: 60\n",
            "Batch Index: 65\n",
            "Batch Index: 70\n",
            "Batch Index: 75\n",
            "Batch Index: 80\n",
            "Batch Index: 85\n",
            "Batch Index: 90\n",
            "Batch Index: 95\n",
            "Batch Index: 100\n",
            "Batch Index: 105\n",
            "finished predict\n",
            "Written to csv file Xi Liu, xl3504.csv\n",
            "all finished\n"
          ]
        }
      ],
      "source": [
        "sub = submission.Submission()\n",
        "df = sub.submit(filename = 'preprocessed_testX_img1.joblib', modelname = 'res50_pretrained_model.pt') # img0\n",
        "# df = sub.submit(filename = 'preprocessed_testX_img1.joblib', modelname = 'res50_pretrained_model_img1.pt') # img1"
      ]
    },
    {
      "cell_type": "code",
      "execution_count": null,
      "metadata": {
        "pycharm": {
          "name": "#%%\n"
        },
        "id": "Vj4CdGztqAhH",
        "outputId": "0ab4183b-a4a1-417c-ba6a-12f75680210d"
      },
      "outputs": [
        {
          "name": "stdout",
          "output_type": "stream",
          "text": [
            "       ID  FINGER_POS_1  FINGER_POS_2  FINGER_POS_3  FINGER_POS_4  \\\n",
            "0     146     48.202206     53.966320    118.233665     70.696991   \n",
            "1    1474     39.998379     51.500851    108.499138     50.487923   \n",
            "2     213     58.445625     53.043182    111.127754    114.322113   \n",
            "3    2831     85.056709     48.430901     90.893402    103.393707   \n",
            "4      26     55.412098     49.710163     93.377068     83.548630   \n",
            "..    ...           ...           ...           ...           ...   \n",
            "844    27     55.804249     49.624912     93.669762     80.295303   \n",
            "845  3226     66.802048     52.373947    102.062851    100.303246   \n",
            "846   833     85.057030     48.751080     86.353058    110.345230   \n",
            "847  3812     82.298553     48.918671     77.732933     97.708672   \n",
            "848   601     50.961864     52.766724    107.917671     87.762131   \n",
            "\n",
            "     FINGER_POS_5  FINGER_POS_6  FINGER_POS_7  FINGER_POS_8  FINGER_POS_9  \\\n",
            "0        1.654829     82.379768     80.718391    -55.493637     52.449303   \n",
            "1        2.291493     97.905228     70.361382    -52.331944     64.537987   \n",
            "2        0.464786     17.211227     87.987869    -52.533733     23.628458   \n",
            "3        1.028378     49.018303     92.181496    -50.844532     35.182442   \n",
            "4        0.210667     50.291180     77.498161    -47.935719     36.574295   \n",
            "..            ...           ...           ...           ...           ...   \n",
            "844      0.376356     54.699650     76.889450    -47.874790     35.677509   \n",
            "845     -0.624885     52.433350     91.063202    -48.027100     33.127598   \n",
            "846      1.387623     33.939064     93.032547    -54.263229     28.554529   \n",
            "847     -1.106133     36.261986     77.697525    -56.578678     40.018341   \n",
            "848      1.590608     55.733292     90.705704    -49.452728     30.609705   \n",
            "\n",
            "     FINGER_POS_10  FINGER_POS_11  FINGER_POS_12  \n",
            "0        58.852455      31.399656     -73.336929  \n",
            "1        56.864040      28.681974     -77.099464  \n",
            "2        62.795891      45.494873     -45.400421  \n",
            "3        74.277908      47.846066     -48.833076  \n",
            "4        57.156239      46.645142     -68.122757  \n",
            "..             ...            ...            ...  \n",
            "844      59.739525      40.869316     -73.158455  \n",
            "845      66.002823      31.881285     -68.235283  \n",
            "846      58.831566      63.142334     -44.261581  \n",
            "847      66.135315      12.492729     -92.431396  \n",
            "848      56.460716      36.071442     -69.133919  \n",
            "\n",
            "[849 rows x 13 columns]\n"
          ]
        }
      ],
      "source": [
        "print(df)"
      ]
    }
  ],
  "metadata": {
    "kernelspec": {
      "display_name": "Python 3.10.7 64-bit",
      "language": "python",
      "name": "python3"
    },
    "language_info": {
      "codemirror_mode": {
        "name": "ipython",
        "version": 3
      },
      "file_extension": ".py",
      "mimetype": "text/x-python",
      "name": "python",
      "nbconvert_exporter": "python",
      "pygments_lexer": "ipython3",
      "version": "3.10.7"
    },
    "vscode": {
      "interpreter": {
        "hash": "08db28d5eb0c49dded8418f39112c5182545741fa4757240f7b057799e2856f7"
      }
    },
    "colab": {
      "provenance": []
    }
  },
  "nbformat": 4,
  "nbformat_minor": 0
}