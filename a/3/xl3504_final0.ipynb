{
  "cells": [
    {
      "cell_type": "code",
      "execution_count": 17,
      "metadata": {
        "colab": {
          "base_uri": "https://localhost:8080/"
        },
        "id": "wDCAgUeAIvMB",
        "outputId": "0efa34fd-1806-4599-916e-1741cd78e21c"
      },
      "outputs": [
        {
          "data": {
            "text/plain": [
              "\"from google.colab import drive\\ndrive.mount('/content/gdrive', force_remount = True)\\n%cd /content/gdrive/MyDrive/\""
            ]
          },
          "execution_count": 17,
          "metadata": {},
          "output_type": "execute_result"
        }
      ],
      "source": [
        "\"\"\"from google.colab import drive\n",
        "drive.mount('/content/gdrive', force_remount = True)\n",
        "%cd /content/gdrive/MyDrive/\"\"\""
      ]
    },
    {
      "cell_type": "code",
      "execution_count": 18,
      "metadata": {
        "id": "I_f5TlBAIwxJ"
      },
      "outputs": [],
      "source": [
        "import os\n",
        "import torch\n",
        "import torch.nn as nn\n",
        "from torch.utils.data import Dataset, DataLoader, TensorDataset\n",
        "import torch.nn.functional as F\n",
        "import torch.optim as optim\n",
        "import matplotlib.pyplot as plt\n",
        "import numpy as np\n",
        "import cv2\n",
        "import pickle as pkl\n",
        "from torch import Tensor\n",
        "from joblib import dump, load"
      ]
    },
    {
      "cell_type": "code",
      "execution_count": 19,
      "metadata": {
        "id": "FbXcx5tzIjZ5"
      },
      "outputs": [],
      "source": [
        "class load(Dataset):\n",
        "    def __init__(self, path, isTrain=True, transform=None):\n",
        "        self.transform = transform\n",
        "        self.path = path + ('train/' if isTrain else 'test/')\n",
        "        self.pathx = self.path + 'X/'\n",
        "        self.pathy = self.path + 'Y/'\n",
        "        self.data = os.listdir(self.pathx)\n",
        "        self.isTrain = isTrain\n",
        "\n",
        "    def __getitem__(self, idx):\n",
        "        f = self.data[idx]\n",
        "        img0 = cv2.imread(self.pathx + f + '/rgb/0.png')\n",
        "        img1 = cv2.imread(self.pathx + f + '/rgb/1.png')\n",
        "        img2 = cv2.imread(self.pathx + f + '/rgb/2.png')\n",
        "        if self.transform is not None:\n",
        "            img0 = self.transform(img0)\n",
        "            img1 = self.transform(img1)\n",
        "            img2 = self.transform(img2)\n",
        "        depth = np.load(self.pathx + f + '/depth.npy')\n",
        "        field_id = pkl.load(open(self.pathx + f + '/field_id.pkl', 'rb'))\n",
        "        if self.isTrain == False:\n",
        "            return (torch.tensor(img0), torch.tensor(img1), torch.tensor(img2), torch.tensor(depth), torch.tensor(int(field_id)))\n",
        "        y = np.load(self.pathy + f + '.npy')\n",
        "        return (torch.tensor(img0), torch.tensor(img1), torch.tensor(img2), torch.tensor(depth), torch.tensor(int(field_id))), torch.tensor(y)\n",
        "\n",
        "    def __len__(self):\n",
        "        return len(self.data)"
      ]
    },
    {
      "cell_type": "code",
      "execution_count": 20,
      "metadata": {
        "id": "DGOMRcclJKRK"
      },
      "outputs": [],
      "source": [
        "data_train = load('./lazydata/', isTrain = True)\n",
        "data_test = load('./lazydata/', isTrain = False)"
      ]
    },
    {
      "cell_type": "code",
      "execution_count": 21,
      "metadata": {
        "id": "zkgSaS3BJVzv"
      },
      "outputs": [],
      "source": [
        "(img0, img1, img2, depth, field_id), y = data_train[0]"
      ]
    },
    {
      "cell_type": "code",
      "execution_count": 22,
      "metadata": {
        "colab": {
          "base_uri": "https://localhost:8080/"
        },
        "id": "_Hfdw5rLJW4Y",
        "outputId": "cdb0ba4c-c1de-46e9-8865-705687045f3d"
      },
      "outputs": [
        {
          "data": {
            "text/plain": [
              "(torch.Size([224, 224, 3]),\n",
              " torch.Size([224, 224, 3]),\n",
              " torch.Size([224, 224, 3]),\n",
              " torch.Size([3, 224, 224]),\n",
              " torch.Size([12]),\n",
              " tensor(3320))"
            ]
          },
          "execution_count": 22,
          "metadata": {},
          "output_type": "execute_result"
        }
      ],
      "source": [
        "img0.shape, img1.shape, img2.shape, depth.shape, y.shape, field_id"
      ]
    },
    {
      "cell_type": "markdown",
      "metadata": {
        "id": "rT6ohAuSvk0U"
      },
      "source": [
        "depth shape is [3, 224, 224] since there are 3 views (3 images, 1 depth for each image)"
      ]
    },
    {
      "cell_type": "code",
      "execution_count": 23,
      "metadata": {
        "colab": {
          "base_uri": "https://localhost:8080/"
        },
        "id": "4BeZg7ubnoz6",
        "outputId": "65ad5a25-8c49-45d9-e562-ffb718b3f072"
      },
      "outputs": [
        {
          "data": {
            "text/plain": [
              "3396"
            ]
          },
          "execution_count": 23,
          "metadata": {},
          "output_type": "execute_result"
        }
      ],
      "source": [
        "len(data_train)"
      ]
    },
    {
      "cell_type": "code",
      "execution_count": 24,
      "metadata": {
        "id": "YPas_k6zlkKu"
      },
      "outputs": [
        {
          "data": {
            "text/plain": [
              "\"min_depth = float('inf')\\nmax_depth = float('-inf')\\ndata_len = len(data_train)\\nfor data_i in range(data_len):\\n  data = data_train[data_i][0][3].numpy()\\n  for i0 in range(data.shape[0]):\\n    for i1 in range(data.shape[1]):\\n      for i2 in range(data.shape[2]):\\n        dep = data[i0][i1][i2]\\n        if dep < min_depth:\\n          min_depth = dep\\n        if dep > max_depth:\\n          max_depth = dep\\nprint('min depth', min_depth)\\nprint('max depth', max_depth)\""
            ]
          },
          "execution_count": 24,
          "metadata": {},
          "output_type": "execute_result"
        }
      ],
      "source": [
        "\"\"\"min_depth = float('inf')\n",
        "max_depth = float('-inf')\n",
        "data_len = len(data_train)\n",
        "for data_i in range(data_len):\n",
        "  data = data_train[data_i][0][3].numpy()\n",
        "  for i0 in range(data.shape[0]):\n",
        "    for i1 in range(data.shape[1]):\n",
        "      for i2 in range(data.shape[2]):\n",
        "        dep = data[i0][i1][i2]\n",
        "        if dep < min_depth:\n",
        "          min_depth = dep\n",
        "        if dep > max_depth:\n",
        "          max_depth = dep\n",
        "print('min depth', min_depth)\n",
        "print('max depth', max_depth)\"\"\""
      ]
    },
    {
      "cell_type": "code",
      "execution_count": 25,
      "metadata": {},
      "outputs": [
        {
          "data": {
            "text/plain": [
              "\"# cannot set a value using [] operator here\\npre = data_train[0][0][3][0][0][0].item()\\nprint('pre value is', pre)\\n# data_train[0][0][3][0][0][0] = Tensor([0])\\ndata_train[0][0][3][0][0][0].data = torch.tensor(0)\\nnew = data_train[0][0][3][0][0][0].item()\\nprint('new value is', new)\""
            ]
          },
          "execution_count": 25,
          "metadata": {},
          "output_type": "execute_result"
        }
      ],
      "source": [
        "\"\"\"# cannot set a value using [] operator here\n",
        "pre = data_train[0][0][3][0][0][0].item()\n",
        "print('pre value is', pre)\n",
        "# data_train[0][0][3][0][0][0] = Tensor([0])\n",
        "data_train[0][0][3][0][0][0].data = torch.tensor(0)\n",
        "new = data_train[0][0][3][0][0][0].item()\n",
        "print('new value is', new)\"\"\""
      ]
    },
    {
      "cell_type": "code",
      "execution_count": 26,
      "metadata": {},
      "outputs": [],
      "source": [
        "# from calculation of above code\n",
        "min_depth = 0.0\n",
        "max_depth = 65535.0"
      ]
    },
    {
      "cell_type": "code",
      "execution_count": 27,
      "metadata": {
        "id": "igh1ARKs2HCM"
      },
      "outputs": [],
      "source": [
        "# data_len = len(data_train)\n",
        "# multiplier = 1 / 1000.0\n",
        "# for data_i in range(data_len):\n",
        "#   data = data_train[data_i][0][3]\n",
        "#   for i0 in range(data.shape[0]):\n",
        "#     for i1 in range(data.shape[1]):\n",
        "#       for i2 in range(data.shape[2]):\n",
        "#         data[i0][i1][i2] = multiplier * (data[i0][i1][i2] - min_depth) / (max_depth - min_depth)"
      ]
    },
    {
      "cell_type": "code",
      "execution_count": 28,
      "metadata": {
        "colab": {
          "background_save": true
        },
        "id": "u7HIIAWlJfj3",
        "outputId": "293180b4-06c8-4908-9583-a766d4b60c99"
      },
      "outputs": [
        {
          "data": {
            "image/png": "[encoded data removed]",
            "text/plain": [
              "<Figure size 640x480 with 1 Axes>"
            ]
          },
          "metadata": {},
          "output_type": "display_data"
        }
      ],
      "source": [
        "plt.imshow(depth[0])\n",
        "plt.show()"
      ]
    },
    {
      "cell_type": "code",
      "execution_count": 29,
      "metadata": {
        "colab": {
          "background_save": true
        },
        "id": "mWsY0SIEJly_"
      },
      "outputs": [],
      "source": [
        "class Bottleneck(nn.Module):\n",
        "    expansion = 4\n",
        "    def __init__(self, in_channels, out_channels, i_downsample=None, stride=1):\n",
        "        super(Bottleneck, self).__init__()\n",
        "\n",
        "        self.conv1 = nn.Conv2d(in_channels, out_channels, kernel_size=1, stride=1, padding=0)\n",
        "        self.batch_norm1 = nn.BatchNorm2d(out_channels)\n",
        "\n",
        "        self.conv2 = nn.Conv2d(out_channels, out_channels, kernel_size=3, stride=stride, padding=1)\n",
        "        self.batch_norm2 = nn.BatchNorm2d(out_channels)\n",
        "\n",
        "        self.conv3 = nn.Conv2d(out_channels, out_channels * self.expansion, kernel_size=1, stride=1, padding=0)\n",
        "        self.batch_norm3 = nn.BatchNorm2d(out_channels * self.expansion)\n",
        "\n",
        "        self.i_downsample = i_downsample\n",
        "        self.stride = stride\n",
        "        self.relu = nn.ReLU()\n",
        "        self.double()\n",
        "\n",
        "    def forward(self, x):\n",
        "        identity = x.clone()\n",
        "        x = self.relu(self.batch_norm1(self.conv1(x)))\n",
        "\n",
        "        x = self.relu(self.batch_norm2(self.conv2(x)))\n",
        "\n",
        "        x = self.conv3(x)\n",
        "        x = self.batch_norm3(x)\n",
        "\n",
        "        # downsample if needed\n",
        "        if self.i_downsample is not None:\n",
        "            identity = self.i_downsample(identity)\n",
        "        # add identity\n",
        "        x += identity\n",
        "        x = self.relu(x)\n",
        "        return x\n",
        "\n",
        "\n",
        "class Block(nn.Module):\n",
        "    expansion = 1\n",
        "\n",
        "    def __init__(self, in_channels, out_channels, i_downsample=None, stride=1):\n",
        "        super(Block, self).__init__()\n",
        "\n",
        "        self.conv1 = nn.Conv2d(in_channels, out_channels, kernel_size=3, padding=1, stride=stride, bias=False)\n",
        "        self.batch_norm1 = nn.BatchNorm2d(out_channels)\n",
        "        self.conv2 = nn.Conv2d(out_channels, out_channels, kernel_size=3, padding=1, stride=stride, bias=False)\n",
        "        self.batch_norm2 = nn.BatchNorm2d(out_channels)\n",
        "\n",
        "        self.i_downsample = i_downsample\n",
        "        self.stride = stride\n",
        "        self.relu = nn.ReLU()\n",
        "        self.double()\n",
        "\n",
        "    def forward(self, x):\n",
        "        identity = x.clone()\n",
        "\n",
        "        x = self.relu(self.batch_norm2(self.conv1(x)))\n",
        "        x = self.batch_norm2(self.conv2(x))\n",
        "\n",
        "        if self.i_downsample is not None:\n",
        "            identity = self.i_downsample(identity)\n",
        "        print(x.shape)\n",
        "        print(identity.shape)\n",
        "        x += identity\n",
        "        x = self.relu(x)\n",
        "        return x\n",
        "\n",
        "class ResNet(nn.Module):\n",
        "    def __init__(self, ResBlock, layer_list, num_classes, num_channels=3):\n",
        "        super(ResNet, self).__init__()\n",
        "        self.in_channels = 64\n",
        "\n",
        "        self.conv1 = nn.Conv2d(num_channels, 64, kernel_size=7, stride=2, padding=3, bias=False)\n",
        "        self.batch_norm1 = nn.BatchNorm2d(64)\n",
        "        self.relu = nn.ReLU()\n",
        "        self.max_pool = nn.MaxPool2d(kernel_size=3, stride=2, padding=1)\n",
        "\n",
        "        self.layer1 = self._make_layer(ResBlock, layer_list[0], planes=64)\n",
        "        self.layer2 = self._make_layer(ResBlock, layer_list[1], planes=128, stride=2)\n",
        "        self.layer3 = self._make_layer(ResBlock, layer_list[2], planes=256, stride=2)\n",
        "        self.layer4 = self._make_layer(ResBlock, layer_list[3], planes=512, stride=2)\n",
        "\n",
        "        self.avgpool = nn.AdaptiveAvgPool2d((1, 1))\n",
        "        self.fc = nn.Linear(512 * ResBlock.expansion, num_classes)\n",
        "        self.double()\n",
        "\n",
        "    def forward(self, x):\n",
        "        x = x.to(torch.double)\n",
        "        x = self.relu(self.batch_norm1(self.conv1(x)))\n",
        "        x = self.max_pool(x)\n",
        "\n",
        "        x = self.layer1(x)\n",
        "        x = self.layer2(x)\n",
        "        x = self.layer3(x)\n",
        "        x = self.layer4(x)\n",
        "\n",
        "        x = self.avgpool(x)\n",
        "        x = x.reshape(x.shape[0], -1)\n",
        "        x = self.fc(x)\n",
        "        return x\n",
        "\n",
        "    def _make_layer(self, ResBlock, blocks, planes, stride=1):\n",
        "        ii_downsample = None\n",
        "        layers = []\n",
        "\n",
        "        if stride != 1 or self.in_channels != planes * ResBlock.expansion:\n",
        "            ii_downsample = nn.Sequential(\n",
        "                nn.Conv2d(self.in_channels, planes * ResBlock.expansion, kernel_size=1, stride=stride),\n",
        "                nn.BatchNorm2d(planes * ResBlock.expansion)\n",
        "            )\n",
        "\n",
        "        layers.append(ResBlock(self.in_channels, planes, i_downsample=ii_downsample, stride=stride))\n",
        "        self.in_channels = planes * ResBlock.expansion\n",
        "\n",
        "        for i in range(blocks - 1):\n",
        "            layers.append(ResBlock(self.in_channels, planes))\n",
        "\n",
        "        return nn.Sequential(*layers)"
      ]
    },
    {
      "cell_type": "code",
      "execution_count": 30,
      "metadata": {
        "colab": {
          "background_save": true
        },
        "id": "NTR8NX-zJvnA"
      },
      "outputs": [],
      "source": [
        "class CNN(nn.Module):\n",
        "    def __init__(self):\n",
        "        self.batch = 8\n",
        "        self.depth_multiplier = 1 / 1000.0\n",
        "        self.message = \"Final Project of Xi Liu\"\n",
        "        self.device = torch.device('cuda:0' if torch.cuda.is_available() else 'cpu')\n",
        "\n",
        "    def ResNet50(self, num_classes, channels=3):\n",
        "        return ResNet(Bottleneck, [3, 4, 6, 3], num_classes, channels)\n",
        "\n",
        "    def ResNet101(self, num_classes, channels=3):\n",
        "        return ResNet(Bottleneck, [3, 4, 23, 3], num_classes, channels)\n",
        "\n",
        "    def ResNet152(self, num_classes, channels=3):\n",
        "        return ResNet(Bottleneck, [3, 8, 36, 3], num_classes, channels)\n",
        "\n",
        "    def array_to_tensor(self, array):\n",
        "        return torch.stack(array, dim = 0)\n",
        "    \n",
        "    def depth_normalization(self, depth):\n",
        "        for i0 in range(depth.shape[0]):\n",
        "            for i1 in range(depth.shape[1]):\n",
        "                for i2 in range(depth.shape[2]):\n",
        "                    depth[i0][i1][i2] = self.depth_multiplier * (depth[i0][i1][i2] - min_depth) / (max_depth - min_depth)\n",
        "        return depth\n",
        "\n",
        "    def train_model(self, dataloader, model, loss_fn, optimizer, n_epoch):\n",
        "        for e in range(n_epoch):\n",
        "            model.train()\n",
        "            # Print epoch\n",
        "            print(f'Starting epoch {e + 1}')\n",
        "            # Set current loss value\n",
        "            current_loss = 0.0\n",
        "            for batch_inx, data in enumerate(dataloader): # for batch_inx, (x, y) in enumerate(dataloader):\n",
        "                \"\"\"print('00', data[0][0].shape)\n",
        "                print('01', data[0][1].shape)\n",
        "                print('02', data[0][2].shape)\n",
        "                print('03', data[0][3].transpose(1, 3).to(self.device).shape)\"\"\"\n",
        "                img0 = data[0][0].to(self.device)\n",
        "                img1 = data[0][1].to(self.device)\n",
        "                img2 = data[0][2].to(self.device)\n",
        "                depth = self.depth_normalization(data[0][3].transpose(1, 3).to(self.device))\n",
        "                x = [img0, img1, img2, depth]\n",
        "                x = self.array_to_tensor(x) # (img0, img1, img2, depth) batch x-pixel y-pixel color\n",
        "                x = x.transpose(0, 1) # batch (img0, img1, img2, depth) x-pixel y-pixel color\n",
        "                x = x.transpose(1, 4) # batch color x-pixel y-pixel (img0, img1, img2, depth)\n",
        "                x = x.reshape(self.batch, 3, 224, 224 * 4)\n",
        "\n",
        "                y = data[1].to(self.device) # torch.Size([8, 12])\n",
        "                pred = model(x) # torch.Size([8, 12])\n",
        "                \"\"\"print('y', y.shape)\n",
        "                print('pred', pred.shape)\"\"\"\n",
        "                # pred *= 1000.0\n",
        "                y *= 1000.0\n",
        "                loss = loss_fn(pred, y)\n",
        "                optimizer.zero_grad()\n",
        "                loss.backward()\n",
        "                optimizer.step()\n",
        "                # Print statistics\n",
        "                current_loss += loss.item()\n",
        "                if batch_inx % 10 == 0:\n",
        "                    print('Loss after mini-batch %5d: %.3f' % (batch_inx + 1, current_loss / 10))\n",
        "                    current_loss = 0.0\n",
        "                del img0, img1, img2, depth, x, y, pred\n",
        "        return model\n",
        "\n",
        "    def main(self):\n",
        "        model = self.ResNet101(num_classes=12, channels=3)\n",
        "        model = model.to(self.device)\n",
        "\n",
        "        loss_function = torch.nn.MSELoss()\n",
        "        optimizer = torch.optim.Adam(model.parameters(), lr=1e-3)\n",
        "\n",
        "        # read_prep_data = load('lx_preprocessed_data.joblib')\n",
        "        # tr_data, tr_y, te_data = read_prep_data[0], read_prep_data[1], read_prep_data[2]\n",
        "\n",
        "        # dataset_train = TensorDataset(Tensor(tr_data), Tensor(tr_y))\n",
        "        # train_dataloader = DataLoader(dataset=data_train, batch_size=self.batch, shuffle=True, num_workers=2) # batchsize = 64\n",
        "        train_dataloader = DataLoader(dataset=data_train, batch_size=self.batch, shuffle=True)\n",
        "\n",
        "        # model = self.train_model(dataloader=train_dataloader, model=model, loss_fn=loss_function, optimizer=optimizer, n_epoch=30)\n",
        "        model = self.train_model(dataloader=train_dataloader, model=model, loss_fn=loss_function, optimizer=optimizer, n_epoch=2)\n",
        "\n",
        "        return model\n",
        "\n",
        "    def pred(self, model_name):\n",
        "        model = torch.jit.load(model_name)\n",
        "        model.eval()\n",
        "\n",
        "        # read_prep_data = load('lx_preprocessed_data.joblib')\n",
        "        # tr_data, tr_y, te_data = read_prep_data[0], read_prep_data[1], read_prep_data[2]\n",
        "\n",
        "        predictions = np.zeros(shape=(data_test.shape[0], 12))\n",
        "        # dataset_test = TensorDataset(Tensor(te_data), Tensor(predictions))\n",
        "        batch_size = 16\n",
        "        test_dataloader = DataLoader(dataset=data_test, batch_size=batch_size, shuffle=True, num_workers=2)\n",
        "\n",
        "        for batch_inx, (x, y) in enumerate(test_dataloader):\n",
        "            x, y = x.to(self.device), y.to(self.device)\n",
        "            test_pred = model(x)\n",
        "            predictions[batch_inx*batch_size:(batch_inx+1)*batch_size, :] = test_pred.detach().cpu().numpy()\n",
        "            if batch_inx % 10 == 0:\n",
        "                print('Batch Index: ' + str(batch_inx))\n",
        "        return predictions"
      ]
    },
    {
      "cell_type": "code",
      "execution_count": 31,
      "metadata": {
        "colab": {
          "background_save": true
        },
        "id": "VpICz9o5KM4o",
        "outputId": "48f04b94-fc01-48bf-fdfd-4a9b177f11cc"
      },
      "outputs": [
        {
          "name": "stdout",
          "output_type": "stream",
          "text": [
            "True\n"
          ]
        }
      ],
      "source": [
        "print(torch.cuda.is_available())\n",
        "torch.cuda.empty_cache()"
      ]
    },
    {
      "cell_type": "code",
      "execution_count": 32,
      "metadata": {
        "colab": {
          "base_uri": "https://localhost:8080/"
        },
        "id": "EfQ-be7mKWMv",
        "outputId": "8a80b3c0-f482-4fd6-e59e-60f2a0e09279"
      },
      "outputs": [
        {
          "ename": "OutOfMemoryError",
          "evalue": "CUDA out of memory. Tried to allocate 20.00 MiB (GPU 0; 4.00 GiB total capacity; 2.24 GiB already allocated; 14.41 MiB free; 2.24 GiB reserved in total by PyTorch) If reserved memory is >> allocated memory try setting max_split_size_mb to avoid fragmentation.  See documentation for Memory Management and PYTORCH_CUDA_ALLOC_CONF",
          "output_type": "error",
          "traceback": [
            "\u001b[1;31m---------------------------------------------------------------------------\u001b[0m",
            "\u001b[1;31mOutOfMemoryError\u001b[0m                          Traceback (most recent call last)",
            "Cell \u001b[1;32mIn [32], line 1\u001b[0m\n\u001b[1;32m----> 1\u001b[0m model \u001b[39m=\u001b[39m CNN()\u001b[39m.\u001b[39;49mmain()\n",
            "Cell \u001b[1;32mIn [30], line 71\u001b[0m, in \u001b[0;36mCNN.main\u001b[1;34m(self)\u001b[0m\n\u001b[0;32m     69\u001b[0m \u001b[39mdef\u001b[39;00m \u001b[39mmain\u001b[39m(\u001b[39mself\u001b[39m):\n\u001b[0;32m     70\u001b[0m     model \u001b[39m=\u001b[39m \u001b[39mself\u001b[39m\u001b[39m.\u001b[39mResNet101(num_classes\u001b[39m=\u001b[39m\u001b[39m12\u001b[39m, channels\u001b[39m=\u001b[39m\u001b[39m3\u001b[39m)\n\u001b[1;32m---> 71\u001b[0m     model \u001b[39m=\u001b[39m model\u001b[39m.\u001b[39;49mto(\u001b[39mself\u001b[39;49m\u001b[39m.\u001b[39;49mdevice)\n\u001b[0;32m     73\u001b[0m     loss_function \u001b[39m=\u001b[39m torch\u001b[39m.\u001b[39mnn\u001b[39m.\u001b[39mMSELoss()\n\u001b[0;32m     74\u001b[0m     optimizer \u001b[39m=\u001b[39m torch\u001b[39m.\u001b[39moptim\u001b[39m.\u001b[39mAdam(model\u001b[39m.\u001b[39mparameters(), lr\u001b[39m=\u001b[39m\u001b[39m1e-3\u001b[39m)\n",
            "File \u001b[1;32mc:\\Users\\xi133\\AppData\\Local\\Programs\\Python\\Python310\\lib\\site-packages\\torch\\nn\\modules\\module.py:987\u001b[0m, in \u001b[0;36mModule.to\u001b[1;34m(self, *args, **kwargs)\u001b[0m\n\u001b[0;32m    983\u001b[0m         \u001b[39mreturn\u001b[39;00m t\u001b[39m.\u001b[39mto(device, dtype \u001b[39mif\u001b[39;00m t\u001b[39m.\u001b[39mis_floating_point() \u001b[39mor\u001b[39;00m t\u001b[39m.\u001b[39mis_complex() \u001b[39melse\u001b[39;00m \u001b[39mNone\u001b[39;00m,\n\u001b[0;32m    984\u001b[0m                     non_blocking, memory_format\u001b[39m=\u001b[39mconvert_to_format)\n\u001b[0;32m    985\u001b[0m     \u001b[39mreturn\u001b[39;00m t\u001b[39m.\u001b[39mto(device, dtype \u001b[39mif\u001b[39;00m t\u001b[39m.\u001b[39mis_floating_point() \u001b[39mor\u001b[39;00m t\u001b[39m.\u001b[39mis_complex() \u001b[39melse\u001b[39;00m \u001b[39mNone\u001b[39;00m, non_blocking)\n\u001b[1;32m--> 987\u001b[0m \u001b[39mreturn\u001b[39;00m \u001b[39mself\u001b[39;49m\u001b[39m.\u001b[39;49m_apply(convert)\n",
            "File \u001b[1;32mc:\\Users\\xi133\\AppData\\Local\\Programs\\Python\\Python310\\lib\\site-packages\\torch\\nn\\modules\\module.py:639\u001b[0m, in \u001b[0;36mModule._apply\u001b[1;34m(self, fn)\u001b[0m\n\u001b[0;32m    637\u001b[0m \u001b[39mdef\u001b[39;00m \u001b[39m_apply\u001b[39m(\u001b[39mself\u001b[39m, fn):\n\u001b[0;32m    638\u001b[0m     \u001b[39mfor\u001b[39;00m module \u001b[39min\u001b[39;00m \u001b[39mself\u001b[39m\u001b[39m.\u001b[39mchildren():\n\u001b[1;32m--> 639\u001b[0m         module\u001b[39m.\u001b[39;49m_apply(fn)\n\u001b[0;32m    641\u001b[0m     \u001b[39mdef\u001b[39;00m \u001b[39mcompute_should_use_set_data\u001b[39m(tensor, tensor_applied):\n\u001b[0;32m    642\u001b[0m         \u001b[39mif\u001b[39;00m torch\u001b[39m.\u001b[39m_has_compatible_shallow_copy_type(tensor, tensor_applied):\n\u001b[0;32m    643\u001b[0m             \u001b[39m# If the new tensor has compatible tensor type as the existing tensor,\u001b[39;00m\n\u001b[0;32m    644\u001b[0m             \u001b[39m# the current behavior is to change the tensor in-place using `.data =`,\u001b[39;00m\n\u001b[1;32m   (...)\u001b[0m\n\u001b[0;32m    649\u001b[0m             \u001b[39m# global flag to let the user control whether they want the future\u001b[39;00m\n\u001b[0;32m    650\u001b[0m             \u001b[39m# behavior of overwriting the existing tensor or not.\u001b[39;00m\n",
            "File \u001b[1;32mc:\\Users\\xi133\\AppData\\Local\\Programs\\Python\\Python310\\lib\\site-packages\\torch\\nn\\modules\\module.py:639\u001b[0m, in \u001b[0;36mModule._apply\u001b[1;34m(self, fn)\u001b[0m\n\u001b[0;32m    637\u001b[0m \u001b[39mdef\u001b[39;00m \u001b[39m_apply\u001b[39m(\u001b[39mself\u001b[39m, fn):\n\u001b[0;32m    638\u001b[0m     \u001b[39mfor\u001b[39;00m module \u001b[39min\u001b[39;00m \u001b[39mself\u001b[39m\u001b[39m.\u001b[39mchildren():\n\u001b[1;32m--> 639\u001b[0m         module\u001b[39m.\u001b[39;49m_apply(fn)\n\u001b[0;32m    641\u001b[0m     \u001b[39mdef\u001b[39;00m \u001b[39mcompute_should_use_set_data\u001b[39m(tensor, tensor_applied):\n\u001b[0;32m    642\u001b[0m         \u001b[39mif\u001b[39;00m torch\u001b[39m.\u001b[39m_has_compatible_shallow_copy_type(tensor, tensor_applied):\n\u001b[0;32m    643\u001b[0m             \u001b[39m# If the new tensor has compatible tensor type as the existing tensor,\u001b[39;00m\n\u001b[0;32m    644\u001b[0m             \u001b[39m# the current behavior is to change the tensor in-place using `.data =`,\u001b[39;00m\n\u001b[1;32m   (...)\u001b[0m\n\u001b[0;32m    649\u001b[0m             \u001b[39m# global flag to let the user control whether they want the future\u001b[39;00m\n\u001b[0;32m    650\u001b[0m             \u001b[39m# behavior of overwriting the existing tensor or not.\u001b[39;00m\n",
            "File \u001b[1;32mc:\\Users\\xi133\\AppData\\Local\\Programs\\Python\\Python310\\lib\\site-packages\\torch\\nn\\modules\\module.py:639\u001b[0m, in \u001b[0;36mModule._apply\u001b[1;34m(self, fn)\u001b[0m\n\u001b[0;32m    637\u001b[0m \u001b[39mdef\u001b[39;00m \u001b[39m_apply\u001b[39m(\u001b[39mself\u001b[39m, fn):\n\u001b[0;32m    638\u001b[0m     \u001b[39mfor\u001b[39;00m module \u001b[39min\u001b[39;00m \u001b[39mself\u001b[39m\u001b[39m.\u001b[39mchildren():\n\u001b[1;32m--> 639\u001b[0m         module\u001b[39m.\u001b[39;49m_apply(fn)\n\u001b[0;32m    641\u001b[0m     \u001b[39mdef\u001b[39;00m \u001b[39mcompute_should_use_set_data\u001b[39m(tensor, tensor_applied):\n\u001b[0;32m    642\u001b[0m         \u001b[39mif\u001b[39;00m torch\u001b[39m.\u001b[39m_has_compatible_shallow_copy_type(tensor, tensor_applied):\n\u001b[0;32m    643\u001b[0m             \u001b[39m# If the new tensor has compatible tensor type as the existing tensor,\u001b[39;00m\n\u001b[0;32m    644\u001b[0m             \u001b[39m# the current behavior is to change the tensor in-place using `.data =`,\u001b[39;00m\n\u001b[1;32m   (...)\u001b[0m\n\u001b[0;32m    649\u001b[0m             \u001b[39m# global flag to let the user control whether they want the future\u001b[39;00m\n\u001b[0;32m    650\u001b[0m             \u001b[39m# behavior of overwriting the existing tensor or not.\u001b[39;00m\n",
            "File \u001b[1;32mc:\\Users\\xi133\\AppData\\Local\\Programs\\Python\\Python310\\lib\\site-packages\\torch\\nn\\modules\\module.py:662\u001b[0m, in \u001b[0;36mModule._apply\u001b[1;34m(self, fn)\u001b[0m\n\u001b[0;32m    658\u001b[0m \u001b[39m# Tensors stored in modules are graph leaves, and we don't want to\u001b[39;00m\n\u001b[0;32m    659\u001b[0m \u001b[39m# track autograd history of `param_applied`, so we have to use\u001b[39;00m\n\u001b[0;32m    660\u001b[0m \u001b[39m# `with torch.no_grad():`\u001b[39;00m\n\u001b[0;32m    661\u001b[0m \u001b[39mwith\u001b[39;00m torch\u001b[39m.\u001b[39mno_grad():\n\u001b[1;32m--> 662\u001b[0m     param_applied \u001b[39m=\u001b[39m fn(param)\n\u001b[0;32m    663\u001b[0m should_use_set_data \u001b[39m=\u001b[39m compute_should_use_set_data(param, param_applied)\n\u001b[0;32m    664\u001b[0m \u001b[39mif\u001b[39;00m should_use_set_data:\n",
            "File \u001b[1;32mc:\\Users\\xi133\\AppData\\Local\\Programs\\Python\\Python310\\lib\\site-packages\\torch\\nn\\modules\\module.py:985\u001b[0m, in \u001b[0;36mModule.to.<locals>.convert\u001b[1;34m(t)\u001b[0m\n\u001b[0;32m    982\u001b[0m \u001b[39mif\u001b[39;00m convert_to_format \u001b[39mis\u001b[39;00m \u001b[39mnot\u001b[39;00m \u001b[39mNone\u001b[39;00m \u001b[39mand\u001b[39;00m t\u001b[39m.\u001b[39mdim() \u001b[39min\u001b[39;00m (\u001b[39m4\u001b[39m, \u001b[39m5\u001b[39m):\n\u001b[0;32m    983\u001b[0m     \u001b[39mreturn\u001b[39;00m t\u001b[39m.\u001b[39mto(device, dtype \u001b[39mif\u001b[39;00m t\u001b[39m.\u001b[39mis_floating_point() \u001b[39mor\u001b[39;00m t\u001b[39m.\u001b[39mis_complex() \u001b[39melse\u001b[39;00m \u001b[39mNone\u001b[39;00m,\n\u001b[0;32m    984\u001b[0m                 non_blocking, memory_format\u001b[39m=\u001b[39mconvert_to_format)\n\u001b[1;32m--> 985\u001b[0m \u001b[39mreturn\u001b[39;00m t\u001b[39m.\u001b[39;49mto(device, dtype \u001b[39mif\u001b[39;49;00m t\u001b[39m.\u001b[39;49mis_floating_point() \u001b[39mor\u001b[39;49;00m t\u001b[39m.\u001b[39;49mis_complex() \u001b[39melse\u001b[39;49;00m \u001b[39mNone\u001b[39;49;00m, non_blocking)\n",
            "\u001b[1;31mOutOfMemoryError\u001b[0m: CUDA out of memory. Tried to allocate 20.00 MiB (GPU 0; 4.00 GiB total capacity; 2.24 GiB already allocated; 14.41 MiB free; 2.24 GiB reserved in total by PyTorch) If reserved memory is >> allocated memory try setting max_split_size_mb to avoid fragmentation.  See documentation for Memory Management and PYTORCH_CUDA_ALLOC_CONF"
          ]
        }
      ],
      "source": [
        "model = CNN().main()"
      ]
    },
    {
      "cell_type": "code",
      "execution_count": null,
      "metadata": {
        "id": "E5sL-odjRlAH"
      },
      "outputs": [],
      "source": [
        "!cat /var/colab/app.log"
      ]
    },
    {
      "cell_type": "code",
      "execution_count": null,
      "metadata": {
        "id": "B4D3i71qzuTX"
      },
      "outputs": [],
      "source": [
        "class Submission:\n",
        "    def __init__(self):\n",
        "        self.message = \"Submission\"\n",
        "\n",
        "    def submit(self):\n",
        "        outfile = 'submission.csv'\n",
        "\n",
        "        output_file = open(outfile, 'w')\n",
        "\n",
        "        titles = ['ID', 'FINGER_POS_1', 'FINGER_POS_2', 'FINGER_POS_3', 'FINGER_POS_4', 'FINGER_POS_5', 'FINGER_POS_6',\n",
        "                 'FINGER_POS_7', 'FINGER_POS_8', 'FINGER_POS_9', 'FINGER_POS_10', 'FINGER_POS_11', 'FINGER_POS_12']\n",
        "        preds = []\n",
        "\n",
        "        # test_data = torch.load('./test/test/testX.pt')\n",
        "        # file_ids = test_data[-1]\n",
        "        # rgb_data = test_data[0]\n",
        "        device = torch.device('cuda:0' if torch.cuda.is_available() else 'cpu')\n",
        "        print(torch.cuda.is_available())\n",
        "        torch.cuda.empty_cache()\n",
        "\n",
        "        read_prep_data = load('preprocessed_testX.joblib')\n",
        "        te_data = read_prep_data[0]\n",
        "        file_ids = read_prep_data[1]\n",
        "        file_ids = [int(numeric_string) for numeric_string in file_ids]\n",
        "        print('finished load data')\n",
        "\n",
        "        predictions = np.zeros(shape=(te_data.shape[0], 12))\n",
        "        dataset_test = TensorDataset(Tensor(te_data), Tensor(predictions))\n",
        "        batch_size = 8\n",
        "        test_dataloader = DataLoader(dataset=dataset_test, batch_size=batch_size, shuffle=False, num_workers=2)\n",
        "        print('finished prep test data')\n",
        "\n",
        "        model = torch.jit.load('res50_pretrained_model.pt')\n",
        "        model.eval()\n",
        "        print('finished load model')\n",
        "\n",
        "        for batch_inx, (x, y) in enumerate(test_dataloader):\n",
        "            x, y = x.to(device), y.to(device)\n",
        "            test_pred = model(x)\n",
        "            predictions[batch_inx*batch_size:(batch_inx+1)*batch_size, :] = test_pred.detach().cpu().numpy()\n",
        "            if batch_inx % 5 == 0:\n",
        "                print('Batch Index: ' + str(batch_inx))\n",
        "\n",
        "        # for i, data in enumerate(rgb_data):\n",
        "        #     # Please remember to modify this loop, input and output based on your model/architecture\n",
        "        #     output = model(data[:1, :, :, :].to('cuda'))\n",
        "        #     preds.append(output[0].cpu().detach().numpy())\n",
        "        # print(file_ids.shape)\n",
        "        # print(predictions.shape)\n",
        "        print('finished predict')\n",
        "        df = pd.concat([pd.DataFrame(file_ids), pd.DataFrame(predictions)], axis=1, names=titles)\n",
        "        df.columns = titles\n",
        "        df.to_csv(outfile, index=False)\n",
        "        print(\"Written to csv file {}\".format(outfile))\n",
        "        print('all finished')\n",
        "        return df"
      ]
    },
    {
      "cell_type": "code",
      "execution_count": null,
      "metadata": {
        "id": "Iq8_th3YKd6_"
      },
      "outputs": [],
      "source": [
        "# sub = submission.Submission()\n",
        "# df = sub.submit()"
      ]
    },
    {
      "cell_type": "code",
      "execution_count": null,
      "metadata": {
        "id": "Hy3K2YIPKhM2"
      },
      "outputs": [],
      "source": [
        "print(df)"
      ]
    }
  ],
  "metadata": {
    "colab": {
      "provenance": []
    },
    "kernelspec": {
      "display_name": "Python 3.10.7 64-bit",
      "language": "python",
      "name": "python3"
    },
    "language_info": {
      "codemirror_mode": {
        "name": "ipython",
        "version": 3
      },
      "file_extension": ".py",
      "mimetype": "text/x-python",
      "name": "python",
      "nbconvert_exporter": "python",
      "pygments_lexer": "ipython3",
      "version": "3.10.7 (tags/v3.10.7:6cc6b13, Sep  5 2022, 14:08:36) [MSC v.1933 64 bit (AMD64)]"
    },
    "vscode": {
      "interpreter": {
        "hash": "08db28d5eb0c49dded8418f39112c5182545741fa4757240f7b057799e2856f7"
      }
    }
  },
  "nbformat": 4,
  "nbformat_minor": 0
}
