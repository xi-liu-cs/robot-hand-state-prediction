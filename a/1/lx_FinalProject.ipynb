{
 "cells": [
  {
   "cell_type": "code",
   "execution_count": 1,
   "metadata": {
    "collapsed": false,
    "pycharm": {
     "name": "#%%\n"
    }
   },
   "outputs": [],
   "source": [
    "import CNN_model\n",
    "import torch\n",
    "import pickle as pkl\n",
    "import pandas as pd\n",
    "from torch.utils.data import Dataset\n",
    "import numpy as np\n",
    "import os\n",
    "import cv2"
   ]
  },
  {
   "cell_type": "code",
   "execution_count": 2,
   "metadata": {
    "collapsed": false,
    "pycharm": {
     "name": "#%%\n"
    }
   },
   "outputs": [
    {
     "name": "stdout",
     "output_type": "stream",
     "text": [
      "True\n"
     ]
    }
   ],
   "source": [
    "print(torch.cuda.is_available())"
   ]
  },
  {
   "cell_type": "code",
   "execution_count": 3,
   "metadata": {
    "collapsed": false,
    "pycharm": {
     "name": "#%%\n"
    }
   },
   "outputs": [],
   "source": [
    "cnn_model = CNN_model.CNN()"
   ]
  },
  {
   "cell_type": "code",
   "execution_count": 4,
   "metadata": {
    "collapsed": false,
    "pycharm": {
     "name": "#%%\n"
    }
   },
   "outputs": [
    {
     "name": "stdout",
     "output_type": "stream",
     "text": [
      "Starting epoch 1\n",
      "Loss after mini-batch     1: 0.061\n",
      "Loss after mini-batch    11: 0.433\n",
      "Loss after mini-batch    21: 0.004\n",
      "Loss after mini-batch    31: 0.002\n",
      "Loss after mini-batch    41: 0.001\n",
      "Loss after mini-batch    51: 0.001\n",
      "Loss after mini-batch    61: 0.001\n",
      "Loss after mini-batch    71: 0.001\n",
      "Loss after mini-batch    81: 0.001\n",
      "Loss after mini-batch    91: 0.001\n",
      "Loss after mini-batch   101: 0.001\n",
      "Loss after mini-batch   111: 0.000\n",
      "Loss after mini-batch   121: 0.001\n",
      "Loss after mini-batch   131: 0.001\n",
      "Loss after mini-batch   141: 0.000\n",
      "Loss after mini-batch   151: 0.000\n",
      "Loss after mini-batch   161: 0.001\n",
      "Loss after mini-batch   171: 0.001\n",
      "Loss after mini-batch   181: 0.001\n",
      "Loss after mini-batch   191: 0.001\n",
      "Loss after mini-batch   201: 0.001\n",
      "Loss after mini-batch   211: 0.000\n",
      "Starting epoch 2\n",
      "Loss after mini-batch     1: 0.000\n",
      "Loss after mini-batch    11: 0.000\n",
      "Loss after mini-batch    21: 0.000\n",
      "Loss after mini-batch    31: 0.000\n",
      "Loss after mini-batch    41: 0.000\n",
      "Loss after mini-batch    51: 0.000\n",
      "Loss after mini-batch    61: 0.000\n",
      "Loss after mini-batch    71: 0.000\n",
      "Loss after mini-batch    81: 0.000\n",
      "Loss after mini-batch    91: 0.000\n",
      "Loss after mini-batch   101: 0.000\n",
      "Loss after mini-batch   111: 0.000\n",
      "Loss after mini-batch   121: 0.000\n",
      "Loss after mini-batch   131: 0.001\n",
      "Loss after mini-batch   141: 0.000\n",
      "Loss after mini-batch   151: 0.001\n",
      "Loss after mini-batch   161: 0.000\n",
      "Loss after mini-batch   171: 0.000\n",
      "Loss after mini-batch   181: 0.000\n",
      "Loss after mini-batch   191: 0.000\n",
      "Loss after mini-batch   201: 0.001\n",
      "Loss after mini-batch   211: 0.001\n",
      "Starting epoch 3\n",
      "Loss after mini-batch     1: 0.000\n",
      "Loss after mini-batch    11: 0.001\n",
      "Loss after mini-batch    21: 0.001\n",
      "Loss after mini-batch    31: 0.000\n",
      "Loss after mini-batch    41: 0.000\n",
      "Loss after mini-batch    51: 0.000\n",
      "Loss after mini-batch    61: 0.000\n",
      "Loss after mini-batch    71: 0.000\n",
      "Loss after mini-batch    81: 0.000\n",
      "Loss after mini-batch    91: 0.000\n",
      "Loss after mini-batch   101: 0.001\n",
      "Loss after mini-batch   111: 0.001\n",
      "Loss after mini-batch   121: 0.001\n",
      "Loss after mini-batch   131: 0.001\n",
      "Loss after mini-batch   141: 0.001\n",
      "Loss after mini-batch   151: 0.001\n",
      "Loss after mini-batch   161: 0.000\n",
      "Loss after mini-batch   171: 0.000\n",
      "Loss after mini-batch   181: 0.000\n",
      "Loss after mini-batch   191: 0.000\n",
      "Loss after mini-batch   201: 0.000\n",
      "Loss after mini-batch   211: 0.000\n",
      "Starting epoch 4\n",
      "Loss after mini-batch     1: 0.000\n",
      "Loss after mini-batch    11: 0.001\n",
      "Loss after mini-batch    21: 0.001\n",
      "Loss after mini-batch    31: 0.000\n",
      "Loss after mini-batch    41: 0.001\n",
      "Loss after mini-batch    51: 0.001\n",
      "Loss after mini-batch    61: 0.001\n",
      "Loss after mini-batch    71: 0.000\n",
      "Loss after mini-batch    81: 0.001\n",
      "Loss after mini-batch    91: 0.001\n",
      "Loss after mini-batch   101: 0.001\n",
      "Loss after mini-batch   111: 0.001\n",
      "Loss after mini-batch   121: 0.000\n",
      "Loss after mini-batch   131: 0.000\n",
      "Loss after mini-batch   141: 0.000\n",
      "Loss after mini-batch   151: 0.000\n",
      "Loss after mini-batch   161: 0.000\n",
      "Loss after mini-batch   171: 0.000\n",
      "Loss after mini-batch   181: 0.000\n",
      "Loss after mini-batch   191: 0.000\n",
      "Loss after mini-batch   201: 0.001\n",
      "Loss after mini-batch   211: 0.000\n",
      "Starting epoch 5\n",
      "Loss after mini-batch     1: 0.000\n",
      "Loss after mini-batch    11: 0.001\n",
      "Loss after mini-batch    21: 0.001\n",
      "Loss after mini-batch    31: 0.001\n",
      "Loss after mini-batch    41: 0.001\n",
      "Loss after mini-batch    51: 0.001\n",
      "Loss after mini-batch    61: 0.001\n",
      "Loss after mini-batch    71: 0.001\n",
      "Loss after mini-batch    81: 0.001\n",
      "Loss after mini-batch    91: 0.000\n",
      "Loss after mini-batch   101: 0.001\n",
      "Loss after mini-batch   111: 0.001\n",
      "Loss after mini-batch   121: 0.001\n",
      "Loss after mini-batch   131: 0.001\n",
      "Loss after mini-batch   141: 0.001\n",
      "Loss after mini-batch   151: 0.001\n",
      "Loss after mini-batch   161: 0.001\n",
      "Loss after mini-batch   171: 0.001\n",
      "Loss after mini-batch   181: 0.001\n",
      "Loss after mini-batch   191: 0.001\n",
      "Loss after mini-batch   201: 0.001\n",
      "Loss after mini-batch   211: 0.001\n",
      "Starting epoch 6\n",
      "Loss after mini-batch     1: 0.000\n",
      "Loss after mini-batch    11: 0.001\n",
      "Loss after mini-batch    21: 0.001\n",
      "Loss after mini-batch    31: 0.001\n",
      "Loss after mini-batch    41: 0.001\n",
      "Loss after mini-batch    51: 0.001\n",
      "Loss after mini-batch    61: 0.001\n",
      "Loss after mini-batch    71: 0.001\n",
      "Loss after mini-batch    81: 0.000\n",
      "Loss after mini-batch    91: 0.000\n",
      "Loss after mini-batch   101: 0.001\n",
      "Loss after mini-batch   111: 0.001\n",
      "Loss after mini-batch   121: 0.000\n",
      "Loss after mini-batch   131: 0.001\n",
      "Loss after mini-batch   141: 0.000\n",
      "Loss after mini-batch   151: 0.000\n",
      "Loss after mini-batch   161: 0.000\n"
     ]
    }
   ],
   "source": [
    "model = cnn_model.main()"
   ]
  },
  {
   "cell_type": "code",
   "execution_count": null,
   "metadata": {},
   "outputs": [],
   "source": [
    "class load(Dataset):\n",
    "    def __init__(self, path, isTrain=True, transform = None):\n",
    "        self.transform = transform\n",
    "        path = path + ('train\\\\' if isTrain else 'test\\\\')\n",
    "        self.pathx = path + 'X\\\\'\n",
    "        self.pathy = path + 'Y\\\\'\n",
    "        self.data = os.listdir(self.pathx)\n",
    "        self.isTrain = isTrain\n",
    "    def __getitem__(self, idx):\n",
    "        f = self.data[idx]\n",
    "        img0 = cv2.imread(self.pathx + f + '\\\\rgb\\\\0.png')\n",
    "        img1 = cv2.imread(self.pathx + f + '\\\\rgb\\\\1.png')\n",
    "        img2 = cv2.imread(self.pathx + f + '\\\\rgb\\\\2.png')\n",
    "        if self.transform is not None:\n",
    "            img0 = self.transform(img0)\n",
    "            img1 = self.transform(img1)\n",
    "            img2 = self.transform(img2)\n",
    "        depth = np.load(self.pathx + f + '\\\\depth.npy')\n",
    "        field_id = pkl.load(open(self.pathx + f + '\\\\field_id.pkl', 'rb'))\n",
    "        if self.isTrain == False:\n",
    "            return (img0, img1, img2, depth, torch.tensor(int(field_id)))\n",
    "        y = np.load(self.pathy + f + '.npy')\n",
    "        return (img0, img1, img2, depth, torch.tensor(int(field_id))), torch.tensor(y)\n",
    "    def __len__(self):\n",
    "        return len(self.data)\n",
    "\n",
    "path_tr = '.\\\\lazydata\\\\'\n",
    "path_te = '.\\\\lazydata\\\\'\n",
    "\n",
    "outfile = 'submission.csv'\n",
    "\n",
    "output_file = open(outfile, 'w')\n",
    "\n",
    "titles = ['ID', 'FINGER_POS_1', 'FINGER_POS_2', 'FINGER_POS_3', 'FINGER_POS_4', 'FINGER_POS_5', 'FINGER_POS_6',\n",
    "         'FINGER_POS_7', 'FINGER_POS_8', 'FINGER_POS_9', 'FINGER_POS_10', 'FINGER_POS_11', 'FINGER_POS_12']\n",
    "preds = []\n",
    "\n",
    "test_data = load(path_te, isTrain = False)\n",
    "file_ids = test_data[-1]\n",
    "rgb_data = test_data[0]\n",
    "model.eval()\n",
    "\n",
    "for i, data in enumerate(rgb_data):\n",
    "    # Please remember to modify this loop, input and output based on your model/architecture\n",
    "    output = model(data[:1, :, :, :].to('cuda'))\n",
    "    preds.append(output[0].cpu().detach().numpy())\n",
    "\n",
    "df = pd.concat([pd.DataFrame(file_ids), pd.DataFrame.from_records(preds)], axis = 1, names = titles)\n",
    "df.columns = titles\n",
    "df.to_csv(outfile, index = False)\n",
    "print(\"Written to csv file {}\".format(outfile))"
   ]
  }
 ],
 "metadata": {
  "kernelspec": {
   "display_name": "Python 3.10.7 64-bit",
   "language": "python",
   "name": "python3"
  },
  "language_info": {
   "codemirror_mode": {
    "name": "ipython",
    "version": 3
   },
   "file_extension": ".py",
   "mimetype": "text/x-python",
   "name": "python",
   "nbconvert_exporter": "python",
   "pygments_lexer": "ipython3",
   "version": "3.10.7"
  },
  "vscode": {
   "interpreter": {
    "hash": "08db28d5eb0c49dded8418f39112c5182545741fa4757240f7b057799e2856f7"
   }
  }
 },
 "nbformat": 4,
 "nbformat_minor": 0
}
